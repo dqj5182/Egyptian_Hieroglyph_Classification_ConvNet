{
  "nbformat": 4,
  "nbformat_minor": 0,
  "metadata": {
    "colab": {
      "name": "Egyptian_model_with_ResNet_Modular.ipynb",
      "provenance": [],
      "authorship_tag": "ABX9TyMY0R9EzjL3SACsp0i/wEwC",
      "include_colab_link": true
    },
    "kernelspec": {
      "name": "python3",
      "display_name": "Python 3"
    },
    "language_info": {
      "name": "python"
    },
    "accelerator": "GPU"
  },
  "cells": [
    {
      "cell_type": "markdown",
      "metadata": {
        "id": "view-in-github",
        "colab_type": "text"
      },
      "source": [
        "<a href=\"https://colab.research.google.com/github/dqj5182/Egyptian_Hieroglyph_Classification_ConvNet/blob/main/Egyptian_model_with_ResNet_Modular.ipynb\" target=\"_parent\"><img src=\"https://colab.research.google.com/assets/colab-badge.svg\" alt=\"Open In Colab\"/></a>"
      ]
    },
    {
      "cell_type": "code",
      "metadata": {
        "id": "8iEiGSblxJzW"
      },
      "source": [
        "import os, os.path\n",
        "import torch\n",
        "import numpy as np\n",
        "import torch.nn as nn\n",
        "import torch.optim as optim\n",
        "from pathlib import Path\n",
        "from torchvision import datasets, models, transforms\n",
        "\n",
        "# check if CUDA is available\n",
        "train_on_gpu = torch.cuda.is_available()"
      ],
      "execution_count": 1,
      "outputs": []
    },
    {
      "cell_type": "markdown",
      "metadata": {
        "id": "Jd6KU8VMz6J3"
      },
      "source": [
        "Module: Load_data"
      ]
    },
    {
      "cell_type": "code",
      "metadata": {
        "id": "8lWX0BW_w_kC"
      },
      "source": [
        "def load_data(hieroglyph_directory_path, batch_size=20, num_workers=0):\n",
        "    train_dir = os.path.join(hieroglyph_directory_path, 'train/')\n",
        "    test_dir = os.path.join(hieroglyph_directory_path, 'test/')\n",
        "\n",
        "    classes = []\n",
        "\n",
        "    for filename in os.listdir(train_dir):\n",
        "        if filename == '.DS_Store':\n",
        "            pass\n",
        "        else:\n",
        "            classes.append(filename)\n",
        "\n",
        "    classes.sort()\n",
        "\n",
        "    # print(\"Our classes:\", classes)\n",
        "    # print(len(classes))\n",
        "\n",
        "    data_transform = transforms.Compose([transforms.ToTensor(),\n",
        "                                         transforms.RandomApply([transforms.RandomHorizontalFlip()]),\n",
        "                                         transforms.RandomRotation(degrees=(-10, 10)),\n",
        "                                         transforms.RandomAffine(degrees=0, translate=(.1, .1)),\n",
        "                                         transforms.RandomApply([transforms.ColorJitter(brightness=(1, 1.2),\n",
        "                                                                                        contrast=(1, 1.5),\n",
        "                                                                                        saturation=(1, 1.5),\n",
        "                                                                                        hue=(0, 0.5))]),\n",
        "                                         transforms.RandomErasing(p=0.5, scale=(0.05, 0.05), ratio=(0.3, 3.3), value=0,\n",
        "                                                                  inplace=False),\n",
        "                                         transforms.Normalize((0.5,), (0.5,))])\n",
        "\n",
        "    train_data = datasets.ImageFolder(train_dir, transform=data_transform)\n",
        "    test_data = datasets.ImageFolder(test_dir, transform=data_transform)\n",
        "\n",
        "    # print('Num training images: ', len(train_data))\n",
        "    # print('Num test images: ', len(test_data))\n",
        "\n",
        "    # prepare data loaders\n",
        "    train_loader = torch.utils.data.DataLoader(train_data, batch_size=batch_size,\n",
        "                                               num_workers=num_workers, shuffle=True)\n",
        "    test_loader = torch.utils.data.DataLoader(test_data, batch_size=batch_size,\n",
        "                                              num_workers=num_workers, shuffle=True)\n",
        "\n",
        "    return train_loader, test_loader, classes"
      ],
      "execution_count": 2,
      "outputs": []
    },
    {
      "cell_type": "markdown",
      "metadata": {
        "id": "K4sXUrPPz7iF"
      },
      "source": [
        "Module: Train_model"
      ]
    },
    {
      "cell_type": "code",
      "metadata": {
        "id": "N2N_rnKLxN5c"
      },
      "source": [
        "def train_model(train_loader, optimizer, resnet50, criterion, my_lr_scheduler, n_epochs):\n",
        "    for epoch in range(1, n_epochs + 1):\n",
        "\n",
        "        # keep track of training and validation loss\n",
        "        train_loss = 0.0\n",
        "\n",
        "        # track training loss over time\n",
        "        losses = []\n",
        "\n",
        "        # model by default is set to train\n",
        "        for batch_i, (data, target) in enumerate(train_loader):\n",
        "            # move tensors to GPU if CUDA is available\n",
        "            if train_on_gpu:\n",
        "                data, target = data.cuda(), target.cuda()\n",
        "            # clear the gradients of all optimized variables\n",
        "            optimizer.zero_grad()\n",
        "            # forward pass: compute predicted outputs by passing inputs to the model\n",
        "            output = resnet50(data)\n",
        "            # calculate the batch loss\n",
        "            loss = criterion(output, target)\n",
        "            # backward pass: compute gradient of the loss with respect to model parameters\n",
        "            loss.backward()\n",
        "            # perform a single optimization step (parameter update)\n",
        "            optimizer.step()\n",
        "            # update training loss\n",
        "            train_loss += loss.item()\n",
        "\n",
        "            my_lr_scheduler.step()\n",
        "\n",
        "            if batch_i % 20 == 19:  # print training loss every specified number of mini-batches\n",
        "                print('Epoch %d, Batch %d loss: %.16f' %\n",
        "                    (epoch, batch_i + 1, train_loss / 20))\n",
        "                losses.append(train_loss / 20)\n",
        "                train_loss = 0.0\n",
        "\n",
        "    return resnet50, losses"
      ],
      "execution_count": 3,
      "outputs": []
    },
    {
      "cell_type": "markdown",
      "metadata": {
        "id": "-Rrxo5RDz96U"
      },
      "source": [
        "Module: Test_model"
      ]
    },
    {
      "cell_type": "code",
      "metadata": {
        "id": "Ay-HlMJnxU9v"
      },
      "source": [
        "def test_model(classes, resnet50, test_loader, criterion):\n",
        "    # track test loss\n",
        "    test_loss = 0.0\n",
        "    class_correct = list(0. for i in range(len(classes)))\n",
        "    class_total = list(0. for i in range(len(classes)))\n",
        "\n",
        "    resnet50.eval()  # eval mode\n",
        "\n",
        "    # iterate over test data\n",
        "    for data, target in test_loader:\n",
        "        # move tensors to GPU if CUDA is available\n",
        "        if train_on_gpu:\n",
        "            data, target = data.cuda(), target.cuda()\n",
        "        # forward pass: compute predicted outputs by passing inputs to the model\n",
        "        output = resnet50(data)\n",
        "        # calculate the batch loss\n",
        "        loss = criterion(output, target)\n",
        "        # update  test loss\n",
        "        test_loss += loss.item() * data.size(0)\n",
        "        # convert output probabilities to predicted class\n",
        "        _, pred = torch.max(output, 1)\n",
        "        # compare predictions to true label\n",
        "        correct_tensor = pred.eq(target.data.view_as(pred))\n",
        "        correct = np.squeeze(correct_tensor.numpy()) if not train_on_gpu else np.squeeze(correct_tensor.cpu().numpy())\n",
        "        # calculate test accuracy for each object class\n",
        "        for i in range(len(target.data)):\n",
        "            label = target.data[i]\n",
        "            class_correct[label] += correct[i].item()\n",
        "            class_total[label] += 1\n",
        "\n",
        "    # calculate avg test loss\n",
        "    test_loss = test_loss / len(test_loader.dataset)\n",
        "    print('Test Loss: {:.6f}\\n'.format(test_loss))\n",
        "\n",
        "    return test_loss, class_correct, class_total"
      ],
      "execution_count": 4,
      "outputs": []
    },
    {
      "cell_type": "markdown",
      "metadata": {
        "id": "xHh3PXE80Asa"
      },
      "source": [
        "Check whether CUDA is available (Change runtime type if not)"
      ]
    },
    {
      "cell_type": "code",
      "metadata": {
        "colab": {
          "base_uri": "https://localhost:8080/"
        },
        "id": "Q9TYPQH7x4zw",
        "outputId": "1581bff3-415d-4e80-d582-54d21d94463a"
      },
      "source": [
        "if not train_on_gpu:\n",
        "    print('CUDA is not available.  Training on CPU ...')\n",
        "else:\n",
        "    print('CUDA is available!  Training on GPU ...')"
      ],
      "execution_count": 5,
      "outputs": [
        {
          "output_type": "stream",
          "name": "stdout",
          "text": [
            "CUDA is available!  Training on GPU ...\n"
          ]
        }
      ]
    },
    {
      "cell_type": "markdown",
      "metadata": {
        "id": "6lYw8EKVx8Q7"
      },
      "source": [
        "Load Hieroglyph Data"
      ]
    },
    {
      "cell_type": "code",
      "metadata": {
        "colab": {
          "base_uri": "https://localhost:8080/"
        },
        "id": "laLvoRy1yewl",
        "outputId": "f5efb0da-92f2-4cbe-da11-8985b7e1ea69"
      },
      "source": [
        "# Connecting and Mounting to the Google Drive\n",
        "from google.colab import drive\n",
        "drive.mount('/content/drive')"
      ],
      "execution_count": 6,
      "outputs": [
        {
          "output_type": "stream",
          "name": "stdout",
          "text": [
            "Drive already mounted at /content/drive; to attempt to forcibly remount, call drive.mount(\"/content/drive\", force_remount=True).\n"
          ]
        }
      ]
    },
    {
      "cell_type": "code",
      "metadata": {
        "id": "odaoZt9GyfUt"
      },
      "source": [
        "data_dir = '/content/drive/MyDrive/EgyptianHieroglyphDataset_Original/'"
      ],
      "execution_count": 7,
      "outputs": []
    },
    {
      "cell_type": "code",
      "metadata": {
        "colab": {
          "base_uri": "https://localhost:8080/"
        },
        "id": "dF22MAnmyiC1",
        "outputId": "7a05248e-f02f-4e57-cbf8-b06e7f7d5c9c"
      },
      "source": [
        "hieroglyph_for_train = []\n",
        "file_count_list = []\n",
        "\n",
        "for name in os.listdir('/content/drive/MyDrive/EgyptianHieroglyphDataset_Original/train/'):\n",
        "  path, dirs, files = next(os.walk(\"/content/drive/MyDrive/EgyptianHieroglyphDataset_Original/train/\"+name))\n",
        "  file_count = len(files)\n",
        "  print(name, file_count)\n",
        "  file_count_list.append(file_count)\n",
        "  hieroglyph_for_train.append(name)\n",
        "\n",
        "hieroglyph_dict = dict(zip(hieroglyph_for_train, file_count_list))"
      ],
      "execution_count": 8,
      "outputs": [
        {
          "output_type": "stream",
          "name": "stdout",
          "text": [
            "D4 29\n",
            "D2 19\n",
            "D46 40\n",
            "D36 47\n",
            "D21 146\n",
            "D58 28\n",
            "E34 97\n",
            "E23 8\n",
            "F31 6\n",
            "G1 28\n",
            "F35 2\n",
            "G17 156\n",
            "G43 157\n",
            "I10 32\n",
            "I9 116\n",
            "M23 30\n",
            "M17 291\n",
            "O1 16\n",
            "O34 15\n",
            "N35 358\n",
            "Q3 61\n",
            "O49 10\n",
            "Q1 13\n",
            "O4 11\n",
            "S34 8\n",
            "R4 2\n",
            "R8 53\n",
            "S29 212\n",
            "V13 63\n",
            "V28 28\n",
            "U7 3\n",
            "V30 6\n",
            "W11 4\n",
            "W24 31\n",
            "V31 106\n",
            "Y5 6\n",
            "X8 4\n",
            "Z1 39\n",
            "X1 185\n",
            "Y1 1\n"
          ]
        }
      ]
    },
    {
      "cell_type": "markdown",
      "metadata": {
        "id": "XeQQ7PjZzKd9"
      },
      "source": [
        "Number of images for each hieroglyph "
      ]
    },
    {
      "cell_type": "code",
      "metadata": {
        "colab": {
          "base_uri": "https://localhost:8080/",
          "height": 609
        },
        "id": "W6IzWR2RyjxM",
        "outputId": "d3f77f1d-11c4-48ea-c452-b7497ba47ae1"
      },
      "source": [
        "import matplotlib.pyplot as plt\n",
        "import pandas as pd\n",
        "\n",
        "df = pd.DataFrame({\"Hieroglyph\":hieroglyph_for_train, \"Count\":file_count_list})\n",
        "\n",
        "df_sorted= df.sort_values('Count',ascending=False)\n",
        "\n",
        "plt.figure(figsize=(20,10))\n",
        "# make bar plot with matplotlib\n",
        "plt.bar('Hieroglyph', 'Count',data=df_sorted)"
      ],
      "execution_count": 9,
      "outputs": [
        {
          "output_type": "execute_result",
          "data": {
            "text/plain": [
              "<BarContainer object of 40 artists>"
            ]
          },
          "metadata": {},
          "execution_count": 9
        },
        {
          "output_type": "display_data",
          "data": {
            "image/png": "[encoded data removed]",
            "text/plain": [
              "<Figure size 1440x720 with 1 Axes>"
            ]
          },
          "metadata": {
            "needs_background": "light"
          }
        }
      ]
    },
    {
      "cell_type": "code",
      "metadata": {
        "id": "-3oOm8rSx7tp"
      },
      "source": [
        "# Number of images processed in a single training\n",
        "batch_size = 20\n",
        "num_workers = 0\n",
        "\n",
        "# The load_data function is from hieroglyph_data_preparation python file\n",
        "train_loader, test_loader, classes = load_data(data_dir)"
      ],
      "execution_count": 10,
      "outputs": []
    },
    {
      "cell_type": "markdown",
      "metadata": {
        "id": "BJm8sGiBx_q5"
      },
      "source": [
        "ResNet Model"
      ]
    },
    {
      "cell_type": "code",
      "metadata": {
        "id": "JkLXVJGkxemC"
      },
      "source": [
        "# Whether to extract features with the model\n",
        "feature_extract = False\n",
        "# Other selections\n",
        "loss_function = \"cross-entropy\"\n",
        "model_selection = \"resnet-50\"\n",
        "optim_selection = \"Adam\"\n",
        "\n",
        "# False if you want scratch model, True if you want pretrained model\n",
        "whether_to_pretrain = True\n",
        "\n",
        "# Load the model\n",
        "if model_selection == \"resnet-50\":\n",
        "    resnet50 = models.resnet50(pretrained=whether_to_pretrain)\n",
        "\n",
        "# Number of features in the last layer of resnet\n",
        "n_inputs = resnet50.fc.in_features\n",
        "\n",
        "# Add last linear layer (n_inputs -> 40 hieroglyph classes)\n",
        "# New layers automatically have requires_grad = True\n",
        "last_layer = nn.Sequential(\n",
        "                nn.Linear(n_inputs, len(classes)))\n",
        "\n",
        "resnet50.fc = last_layer\n",
        "\n",
        "# if GPU is available, move the model to GPU\n",
        "if train_on_gpu:\n",
        "    resnet50.cuda()\n",
        "\n",
        "# Specify loss function (categorical cross-entropy)\n",
        "if loss_function == \"cross-entropy\":\n",
        "    criterion = nn.CrossEntropyLoss()\n",
        "\n",
        "# Specify optimizer (Adam) and learning rate = 0.001\n",
        "if optim_selection == \"Adam\":\n",
        "    optimizer = optim.Adam(resnet50.parameters(), lr=0.001)\n",
        "\n",
        "# Exponential Decay to strengthen learning\n",
        "decayRate = 0.999\n",
        "my_lr_scheduler = torch.optim.lr_scheduler.ExponentialLR(optimizer=optimizer, gamma=decayRate)"
      ],
      "execution_count": 11,
      "outputs": []
    },
    {
      "cell_type": "markdown",
      "metadata": {
        "id": "U2vnErB1yHmM"
      },
      "source": [
        "Training the model"
      ]
    },
    {
      "cell_type": "code",
      "metadata": {
        "colab": {
          "base_uri": "https://localhost:8080/"
        },
        "id": "dOB03noWyEvQ",
        "outputId": "14e9516a-4838-4efe-ebe5-eb2653acc45c"
      },
      "source": [
        "# number of epochs to train the model\n",
        "n_epochs = 50\n",
        "\n",
        "# The train_model function is from model_training python file\n",
        "resnet50, train_losses = train_model(train_loader, optimizer, resnet50, criterion, my_lr_scheduler, n_epochs)"
      ],
      "execution_count": 12,
      "outputs": [
        {
          "output_type": "stream",
          "name": "stdout",
          "text": [
            "Epoch 1, Batch 20 loss: 3.1106753349304199\n",
            "Epoch 1, Batch 40 loss: 2.2580976128578185\n",
            "Epoch 1, Batch 60 loss: 1.9281273484230042\n",
            "Epoch 1, Batch 80 loss: 2.0588400304317473\n",
            "Epoch 1, Batch 100 loss: 1.7765858292579650\n",
            "Epoch 1, Batch 120 loss: 1.4234565317630767\n",
            "Epoch 2, Batch 20 loss: 1.4187451511621476\n",
            "Epoch 2, Batch 40 loss: 1.1037239789962769\n",
            "Epoch 2, Batch 60 loss: 1.1476789504289626\n",
            "Epoch 2, Batch 80 loss: 0.9416254013776779\n",
            "Epoch 2, Batch 100 loss: 0.8820027723908425\n",
            "Epoch 2, Batch 120 loss: 0.8998929575085640\n",
            "Epoch 3, Batch 20 loss: 0.7105516821146012\n",
            "Epoch 3, Batch 40 loss: 0.8134175069630146\n",
            "Epoch 3, Batch 60 loss: 0.7919048905372620\n",
            "Epoch 3, Batch 80 loss: 0.6750438481569290\n",
            "Epoch 3, Batch 100 loss: 0.5580126538872718\n",
            "Epoch 3, Batch 120 loss: 0.5112266041338444\n",
            "Epoch 4, Batch 20 loss: 0.6513968430459499\n",
            "Epoch 4, Batch 40 loss: 0.5978084631264210\n",
            "Epoch 4, Batch 60 loss: 0.5084878459572792\n",
            "Epoch 4, Batch 80 loss: 0.4607503440231085\n",
            "Epoch 4, Batch 100 loss: 0.5805594757199287\n",
            "Epoch 4, Batch 120 loss: 0.4128616139292717\n",
            "Epoch 5, Batch 20 loss: 0.4935202062129974\n",
            "Epoch 5, Batch 40 loss: 0.3814222022891045\n",
            "Epoch 5, Batch 60 loss: 0.3306115012615919\n",
            "Epoch 5, Batch 80 loss: 0.4134193494915962\n",
            "Epoch 5, Batch 100 loss: 0.3284326773136854\n",
            "Epoch 5, Batch 120 loss: 0.3732533786445856\n",
            "Epoch 6, Batch 20 loss: 0.2739319637417793\n",
            "Epoch 6, Batch 40 loss: 0.4002247285097837\n",
            "Epoch 6, Batch 60 loss: 0.2806747663766146\n",
            "Epoch 6, Batch 80 loss: 0.3274370592087507\n",
            "Epoch 6, Batch 100 loss: 0.3382107160985470\n",
            "Epoch 6, Batch 120 loss: 0.2460651692003012\n",
            "Epoch 7, Batch 20 loss: 0.1865163275972009\n",
            "Epoch 7, Batch 40 loss: 0.1873500788584352\n",
            "Epoch 7, Batch 60 loss: 0.2497231008484960\n",
            "Epoch 7, Batch 80 loss: 0.2219447527080774\n",
            "Epoch 7, Batch 100 loss: 0.3104563359171152\n",
            "Epoch 7, Batch 120 loss: 0.2994957860559225\n",
            "Epoch 8, Batch 20 loss: 0.2347790932282806\n",
            "Epoch 8, Batch 40 loss: 0.2610882045701146\n",
            "Epoch 8, Batch 60 loss: 0.2617342431098223\n",
            "Epoch 8, Batch 80 loss: 0.2858926676213741\n",
            "Epoch 8, Batch 100 loss: 0.3373539410531521\n",
            "Epoch 8, Batch 120 loss: 0.1808220162987709\n",
            "Epoch 9, Batch 20 loss: 0.1666949273087084\n",
            "Epoch 9, Batch 40 loss: 0.1666268462315202\n",
            "Epoch 9, Batch 60 loss: 0.1449249425902963\n",
            "Epoch 9, Batch 80 loss: 0.1348348985426128\n",
            "Epoch 9, Batch 100 loss: 0.1486527232453227\n",
            "Epoch 9, Batch 120 loss: 0.1620727234520018\n",
            "Epoch 10, Batch 20 loss: 0.1752758408896625\n",
            "Epoch 10, Batch 40 loss: 0.1290090741124004\n",
            "Epoch 10, Batch 60 loss: 0.1469023900106549\n",
            "Epoch 10, Batch 80 loss: 0.1838772649876773\n",
            "Epoch 10, Batch 100 loss: 0.1322899384424090\n",
            "Epoch 10, Batch 120 loss: 0.1432566576171666\n",
            "Epoch 11, Batch 20 loss: 0.1017313240328804\n",
            "Epoch 11, Batch 40 loss: 0.1294370474293828\n",
            "Epoch 11, Batch 60 loss: 0.0898978730663657\n",
            "Epoch 11, Batch 80 loss: 0.1442394250072539\n",
            "Epoch 11, Batch 100 loss: 0.1197469049133360\n",
            "Epoch 11, Batch 120 loss: 0.1285311403917149\n",
            "Epoch 12, Batch 20 loss: 0.1542883939575404\n",
            "Epoch 12, Batch 40 loss: 0.1259669561870396\n",
            "Epoch 12, Batch 60 loss: 0.1299274350516498\n",
            "Epoch 12, Batch 80 loss: 0.1443638314958662\n",
            "Epoch 12, Batch 100 loss: 0.0977990921121091\n",
            "Epoch 12, Batch 120 loss: 0.0595523159718141\n",
            "Epoch 13, Batch 20 loss: 0.1697282728855498\n",
            "Epoch 13, Batch 40 loss: 0.0919400421902537\n",
            "Epoch 13, Batch 60 loss: 0.1039430076256394\n",
            "Epoch 13, Batch 80 loss: 0.0833836746634915\n",
            "Epoch 13, Batch 100 loss: 0.1049339658580720\n",
            "Epoch 13, Batch 120 loss: 0.1272237398661673\n",
            "Epoch 14, Batch 20 loss: 0.1056690443307161\n",
            "Epoch 14, Batch 40 loss: 0.0836225053877570\n",
            "Epoch 14, Batch 60 loss: 0.0863729793578386\n",
            "Epoch 14, Batch 80 loss: 0.1243359739892185\n",
            "Epoch 14, Batch 100 loss: 0.1121558299288154\n",
            "Epoch 14, Batch 120 loss: 0.0713805520208552\n",
            "Epoch 15, Batch 20 loss: 0.0547650723718107\n",
            "Epoch 15, Batch 40 loss: 0.0342973752878606\n",
            "Epoch 15, Batch 60 loss: 0.0384219133527949\n",
            "Epoch 15, Batch 80 loss: 0.0869564296561293\n",
            "Epoch 15, Batch 100 loss: 0.0906353226397187\n",
            "Epoch 15, Batch 120 loss: 0.0905757974367589\n",
            "Epoch 16, Batch 20 loss: 0.0667637657141313\n",
            "Epoch 16, Batch 40 loss: 0.0527635853970423\n",
            "Epoch 16, Batch 60 loss: 0.0643466784735210\n",
            "Epoch 16, Batch 80 loss: 0.1006895469501615\n",
            "Epoch 16, Batch 100 loss: 0.1031556646223180\n",
            "Epoch 16, Batch 120 loss: 0.0489023730973713\n",
            "Epoch 17, Batch 20 loss: 0.0564415779110277\n",
            "Epoch 17, Batch 40 loss: 0.0618986855493858\n",
            "Epoch 17, Batch 60 loss: 0.0713854325353168\n",
            "Epoch 17, Batch 80 loss: 0.0741188889136538\n",
            "Epoch 17, Batch 100 loss: 0.0773019208572805\n",
            "Epoch 17, Batch 120 loss: 0.0773609277559444\n",
            "Epoch 18, Batch 20 loss: 0.0806847868021578\n",
            "Epoch 18, Batch 40 loss: 0.0853162836981937\n",
            "Epoch 18, Batch 60 loss: 0.0265992117812857\n",
            "Epoch 18, Batch 80 loss: 0.0345957419369370\n",
            "Epoch 18, Batch 100 loss: 0.0478076128638349\n",
            "Epoch 18, Batch 120 loss: 0.0628607587656006\n",
            "Epoch 19, Batch 20 loss: 0.0716466888785362\n",
            "Epoch 19, Batch 40 loss: 0.0308444287045859\n",
            "Epoch 19, Batch 60 loss: 0.0501061106508132\n",
            "Epoch 19, Batch 80 loss: 0.0594426574709360\n",
            "Epoch 19, Batch 100 loss: 0.0636836364166811\n",
            "Epoch 19, Batch 120 loss: 0.0437771155149676\n",
            "Epoch 20, Batch 20 loss: 0.0459031064296141\n",
            "Epoch 20, Batch 40 loss: 0.0408527651336044\n",
            "Epoch 20, Batch 60 loss: 0.0679833915317431\n",
            "Epoch 20, Batch 80 loss: 0.0279599938075989\n",
            "Epoch 20, Batch 100 loss: 0.0609283777957899\n",
            "Epoch 20, Batch 120 loss: 0.0337789211713243\n",
            "Epoch 21, Batch 20 loss: 0.0566626121406443\n",
            "Epoch 21, Batch 40 loss: 0.0335793691687286\n",
            "Epoch 21, Batch 60 loss: 0.0554376609739847\n",
            "Epoch 21, Batch 80 loss: 0.0414323024189798\n",
            "Epoch 21, Batch 100 loss: 0.0318839844840113\n",
            "Epoch 21, Batch 120 loss: 0.0519857014180161\n",
            "Epoch 22, Batch 20 loss: 0.0650853803148493\n",
            "Epoch 22, Batch 40 loss: 0.0330581195186824\n",
            "Epoch 22, Batch 60 loss: 0.0582403738284484\n",
            "Epoch 22, Batch 80 loss: 0.0344559354824014\n",
            "Epoch 22, Batch 100 loss: 0.0673807732237037\n",
            "Epoch 22, Batch 120 loss: 0.0444835182046518\n",
            "Epoch 23, Batch 20 loss: 0.0341896793688647\n",
            "Epoch 23, Batch 40 loss: 0.0668998199806083\n",
            "Epoch 23, Batch 60 loss: 0.0447424460639013\n",
            "Epoch 23, Batch 80 loss: 0.0315096436243039\n",
            "Epoch 23, Batch 100 loss: 0.0434669662150554\n",
            "Epoch 23, Batch 120 loss: 0.0302722584572621\n",
            "Epoch 24, Batch 20 loss: 0.0493179212789983\n",
            "Epoch 24, Batch 40 loss: 0.0369136829511263\n",
            "Epoch 24, Batch 60 loss: 0.0544579428504221\n",
            "Epoch 24, Batch 80 loss: 0.0386501315166242\n",
            "Epoch 24, Batch 100 loss: 0.0470537387183867\n",
            "Epoch 24, Batch 120 loss: 0.0365922794793732\n",
            "Epoch 25, Batch 20 loss: 0.0370805216953158\n",
            "Epoch 25, Batch 40 loss: 0.0364079326973297\n",
            "Epoch 25, Batch 60 loss: 0.0414781006518751\n",
            "Epoch 25, Batch 80 loss: 0.0494703528238460\n",
            "Epoch 25, Batch 100 loss: 0.0277593122038525\n",
            "Epoch 25, Batch 120 loss: 0.0178113212459721\n",
            "Epoch 26, Batch 20 loss: 0.0213477234239690\n",
            "Epoch 26, Batch 40 loss: 0.0442173690069467\n",
            "Epoch 26, Batch 60 loss: 0.0229283763561398\n",
            "Epoch 26, Batch 80 loss: 0.0153597679483937\n",
            "Epoch 26, Batch 100 loss: 0.0343664748535957\n",
            "Epoch 26, Batch 120 loss: 0.0218060482002329\n",
            "Epoch 27, Batch 20 loss: 0.0153077153954655\n",
            "Epoch 27, Batch 40 loss: 0.0294032337726094\n",
            "Epoch 27, Batch 60 loss: 0.0267539488500915\n",
            "Epoch 27, Batch 80 loss: 0.0158148811839055\n",
            "Epoch 27, Batch 100 loss: 0.0384621986653656\n",
            "Epoch 27, Batch 120 loss: 0.0262171965558082\n",
            "Epoch 28, Batch 20 loss: 0.0187243102176581\n",
            "Epoch 28, Batch 40 loss: 0.0349227390892338\n",
            "Epoch 28, Batch 60 loss: 0.0453734402603004\n",
            "Epoch 28, Batch 80 loss: 0.0264094374550041\n",
            "Epoch 28, Batch 100 loss: 0.0497088904725388\n",
            "Epoch 28, Batch 120 loss: 0.0391834314854350\n",
            "Epoch 29, Batch 20 loss: 0.0188806413789280\n",
            "Epoch 29, Batch 40 loss: 0.0421105759800412\n",
            "Epoch 29, Batch 60 loss: 0.0239797526446637\n",
            "Epoch 29, Batch 80 loss: 0.0270471893192735\n",
            "Epoch 29, Batch 100 loss: 0.0449085013940930\n",
            "Epoch 29, Batch 120 loss: 0.0403355905436911\n",
            "Epoch 30, Batch 20 loss: 0.0499608580779750\n",
            "Epoch 30, Batch 40 loss: 0.0249101433320902\n",
            "Epoch 30, Batch 60 loss: 0.0135318053100491\n",
            "Epoch 30, Batch 80 loss: 0.0301595751661807\n",
            "Epoch 30, Batch 100 loss: 0.0442460019665305\n",
            "Epoch 30, Batch 120 loss: 0.0240192067227326\n",
            "Epoch 31, Batch 20 loss: 0.0358324227039702\n",
            "Epoch 31, Batch 40 loss: 0.0334397233207710\n",
            "Epoch 31, Batch 60 loss: 0.0217498092912137\n",
            "Epoch 31, Batch 80 loss: 0.0157432110863738\n",
            "Epoch 31, Batch 100 loss: 0.0344032177119516\n",
            "Epoch 31, Batch 120 loss: 0.0466355866927188\n",
            "Epoch 32, Batch 20 loss: 0.0460768609656952\n",
            "Epoch 32, Batch 40 loss: 0.0225534575467464\n",
            "Epoch 32, Batch 60 loss: 0.0258384032262256\n",
            "Epoch 32, Batch 80 loss: 0.0116667856811546\n",
            "Epoch 32, Batch 100 loss: 0.0307611829222878\n",
            "Epoch 32, Batch 120 loss: 0.0318778036162257\n",
            "Epoch 33, Batch 20 loss: 0.0219385081203654\n",
            "Epoch 33, Batch 40 loss: 0.0370505745406263\n",
            "Epoch 33, Batch 60 loss: 0.0197443353419658\n",
            "Epoch 33, Batch 80 loss: 0.0340210971597116\n",
            "Epoch 33, Batch 100 loss: 0.0369092716107843\n",
            "Epoch 33, Batch 120 loss: 0.0225740615511313\n",
            "Epoch 34, Batch 20 loss: 0.0416573867376428\n",
            "Epoch 34, Batch 40 loss: 0.0093259691144340\n",
            "Epoch 34, Batch 60 loss: 0.0144457879825495\n",
            "Epoch 34, Batch 80 loss: 0.0383758676936850\n",
            "Epoch 34, Batch 100 loss: 0.0224825003533624\n",
            "Epoch 34, Batch 120 loss: 0.0328658867802005\n",
            "Epoch 35, Batch 20 loss: 0.0251498272467870\n",
            "Epoch 35, Batch 40 loss: 0.0367845794185996\n",
            "Epoch 35, Batch 60 loss: 0.0201906009111553\n",
            "Epoch 35, Batch 80 loss: 0.0187432188773528\n",
            "Epoch 35, Batch 100 loss: 0.0320821721339598\n",
            "Epoch 35, Batch 120 loss: 0.0400903378787916\n",
            "Epoch 36, Batch 20 loss: 0.0501713249133900\n",
            "Epoch 36, Batch 40 loss: 0.0431320319621591\n",
            "Epoch 36, Batch 60 loss: 0.0102138754271436\n",
            "Epoch 36, Batch 80 loss: 0.0116447584296111\n",
            "Epoch 36, Batch 100 loss: 0.0236898802249925\n",
            "Epoch 36, Batch 120 loss: 0.0135367868933827\n",
            "Epoch 37, Batch 20 loss: 0.0145670079306001\n",
            "Epoch 37, Batch 40 loss: 0.0168601266806945\n",
            "Epoch 37, Batch 60 loss: 0.0211027016979642\n",
            "Epoch 37, Batch 80 loss: 0.0289212436589878\n",
            "Epoch 37, Batch 100 loss: 0.0234936878521694\n",
            "Epoch 37, Batch 120 loss: 0.0157200249144807\n",
            "Epoch 38, Batch 20 loss: 0.0204165895294864\n",
            "Epoch 38, Batch 40 loss: 0.0325000330485636\n",
            "Epoch 38, Batch 60 loss: 0.0294323092326522\n",
            "Epoch 38, Batch 80 loss: 0.0204225398250856\n",
            "Epoch 38, Batch 100 loss: 0.0159201817237772\n",
            "Epoch 38, Batch 120 loss: 0.0211643254093360\n",
            "Epoch 39, Batch 20 loss: 0.0186196093578474\n",
            "Epoch 39, Batch 40 loss: 0.0163403756610933\n",
            "Epoch 39, Batch 60 loss: 0.0189564962725854\n",
            "Epoch 39, Batch 80 loss: 0.0322290116047952\n",
            "Epoch 39, Batch 100 loss: 0.0132446518196957\n",
            "Epoch 39, Batch 120 loss: 0.0114660365768941\n",
            "Epoch 40, Batch 20 loss: 0.0372059030283708\n",
            "Epoch 40, Batch 40 loss: 0.0206990444130497\n",
            "Epoch 40, Batch 60 loss: 0.0546905106864870\n",
            "Epoch 40, Batch 80 loss: 0.0084957905171905\n",
            "Epoch 40, Batch 100 loss: 0.0211046406533569\n",
            "Epoch 40, Batch 120 loss: 0.0088546292157844\n",
            "Epoch 41, Batch 20 loss: 0.0167473105539102\n",
            "Epoch 41, Batch 40 loss: 0.0279454854564392\n",
            "Epoch 41, Batch 60 loss: 0.0372233914677054\n",
            "Epoch 41, Batch 80 loss: 0.0100438813577057\n",
            "Epoch 41, Batch 100 loss: 0.0146499448892428\n",
            "Epoch 41, Batch 120 loss: 0.0419001921458403\n",
            "Epoch 42, Batch 20 loss: 0.0299041202291846\n",
            "Epoch 42, Batch 40 loss: 0.0304813354159705\n",
            "Epoch 42, Batch 60 loss: 0.0158363465481671\n",
            "Epoch 42, Batch 80 loss: 0.0099065888964105\n",
            "Epoch 42, Batch 100 loss: 0.0129242546070600\n",
            "Epoch 42, Batch 120 loss: 0.0263332626433112\n",
            "Epoch 43, Batch 20 loss: 0.0162761617801152\n",
            "Epoch 43, Batch 40 loss: 0.0193054582574405\n",
            "Epoch 43, Batch 60 loss: 0.0173124560096767\n",
            "Epoch 43, Batch 80 loss: 0.0095339941268321\n",
            "Epoch 43, Batch 100 loss: 0.0130982358939946\n",
            "Epoch 43, Batch 120 loss: 0.0160822460136842\n",
            "Epoch 44, Batch 20 loss: 0.0258674465527292\n",
            "Epoch 44, Batch 40 loss: 0.0213864738529082\n",
            "Epoch 44, Batch 60 loss: 0.0083411455794703\n",
            "Epoch 44, Batch 80 loss: 0.0131427145475755\n",
            "Epoch 44, Batch 100 loss: 0.0122309637255967\n",
            "Epoch 44, Batch 120 loss: 0.0244295040669385\n",
            "Epoch 45, Batch 20 loss: 0.0120718970807502\n",
            "Epoch 45, Batch 40 loss: 0.0073784456006251\n",
            "Epoch 45, Batch 60 loss: 0.0394059130805545\n",
            "Epoch 45, Batch 80 loss: 0.0418747148214607\n",
            "Epoch 45, Batch 100 loss: 0.0295020381745417\n",
            "Epoch 45, Batch 120 loss: 0.0064642893121345\n",
            "Epoch 46, Batch 20 loss: 0.0088562215969432\n",
            "Epoch 46, Batch 40 loss: 0.0148100504069589\n",
            "Epoch 46, Batch 60 loss: 0.0177622511269874\n",
            "Epoch 46, Batch 80 loss: 0.0302491504160571\n",
            "Epoch 46, Batch 100 loss: 0.0111953280196758\n",
            "Epoch 46, Batch 120 loss: 0.0329654711531475\n",
            "Epoch 47, Batch 20 loss: 0.0230065202893456\n",
            "Epoch 47, Batch 40 loss: 0.0106318113350426\n",
            "Epoch 47, Batch 60 loss: 0.0073558258824050\n",
            "Epoch 47, Batch 80 loss: 0.0162793952011270\n",
            "Epoch 47, Batch 100 loss: 0.0304373447695980\n",
            "Epoch 47, Batch 120 loss: 0.0164570650085807\n",
            "Epoch 48, Batch 20 loss: 0.0209241723467130\n",
            "Epoch 48, Batch 40 loss: 0.0212229006021516\n",
            "Epoch 48, Batch 60 loss: 0.0125202322931727\n",
            "Epoch 48, Batch 80 loss: 0.0211749261216028\n",
            "Epoch 48, Batch 100 loss: 0.0094327078695642\n",
            "Epoch 48, Batch 120 loss: 0.0209537634800654\n",
            "Epoch 49, Batch 20 loss: 0.0164965642441530\n",
            "Epoch 49, Batch 40 loss: 0.0263994483655551\n",
            "Epoch 49, Batch 60 loss: 0.0316449858655687\n",
            "Epoch 49, Batch 80 loss: 0.0169783604942495\n",
            "Epoch 49, Batch 100 loss: 0.0099875086860266\n",
            "Epoch 49, Batch 120 loss: 0.0119676580216037\n",
            "Epoch 50, Batch 20 loss: 0.0141529634769540\n",
            "Epoch 50, Batch 40 loss: 0.0200088406621944\n",
            "Epoch 50, Batch 60 loss: 0.0255971297825454\n",
            "Epoch 50, Batch 80 loss: 0.0151350559986895\n",
            "Epoch 50, Batch 100 loss: 0.0231007743932423\n",
            "Epoch 50, Batch 120 loss: 0.0104090525972424\n"
          ]
        }
      ]
    },
    {
      "cell_type": "code",
      "metadata": {
        "colab": {
          "base_uri": "https://localhost:8080/",
          "height": 281
        },
        "id": "CfA7ZjLR1BZP",
        "outputId": "f030fb1d-2a38-45c2-f48c-73c1d16a885f"
      },
      "source": [
        "plt.plot(train_losses)\n",
        "plt.title(\"Training Loss\")\n",
        "plt.show()"
      ],
      "execution_count": 13,
      "outputs": [
        {
          "output_type": "display_data",
          "data": {
            "image/png": "[encoded data removed]",
            "text/plain": [
              "<Figure size 432x288 with 1 Axes>"
            ]
          },
          "metadata": {
            "needs_background": "light"
          }
        }
      ]
    },
    {
      "cell_type": "markdown",
      "metadata": {
        "id": "ItLyF9dQyJFL"
      },
      "source": [
        "Testing the model"
      ]
    },
    {
      "cell_type": "code",
      "metadata": {
        "colab": {
          "base_uri": "https://localhost:8080/"
        },
        "id": "xNavYOynyE6d",
        "outputId": "70fc2876-f807-44bc-dc75-ba7b394d1318"
      },
      "source": [
        "# The test_model function is from model_testing python file\n",
        "test_loss, class_correct, class_total = test_model(classes, resnet50, test_loader, criterion)\n",
        "\n",
        "# Test accuracy for each hieroglyph\n",
        "for i in range(len(classes)):\n",
        "    if class_total[i] > 0:\n",
        "        print('Test Accuracy of %5s: %2d%% (%2d/%2d)' % (classes[i], 100 * class_correct[i] / class_total[i], np.sum(class_correct[i]), np.sum(class_total[i])))\n",
        "    else:\n",
        "        print('Test Accuracy of %5s: N/A (no training examples)' % (classes[i]))\n",
        "\n",
        "# Total Test accuracy\n",
        "print('\\nTest Accuracy (Overall): %2d%% (%2d/%2d)' % (100. * np.sum(class_correct) / np.sum(class_total), np.sum(class_correct), np.sum(class_total)))"
      ],
      "execution_count": 14,
      "outputs": [
        {
          "output_type": "stream",
          "name": "stdout",
          "text": [
            "Test Loss: 0.062078\n",
            "\n",
            "Test Accuracy of    D2: 100% ( 5/ 5)\n",
            "Test Accuracy of   D21: 97% (36/37)\n",
            "Test Accuracy of   D36: 100% (12/12)\n",
            "Test Accuracy of    D4: 100% ( 8/ 8)\n",
            "Test Accuracy of   D46: 100% (10/10)\n",
            "Test Accuracy of   D58: 100% ( 8/ 8)\n",
            "Test Accuracy of   E23: 100% ( 2/ 2)\n",
            "Test Accuracy of   E34: 100% (25/25)\n",
            "Test Accuracy of   F31: 100% ( 2/ 2)\n",
            "Test Accuracy of   F35: 100% ( 1/ 1)\n",
            "Test Accuracy of    G1: 100% ( 7/ 7)\n",
            "Test Accuracy of   G17: 97% (38/39)\n",
            "Test Accuracy of   G43: 100% (40/40)\n",
            "Test Accuracy of   I10: 100% ( 9/ 9)\n",
            "Test Accuracy of    I9: 96% (29/30)\n",
            "Test Accuracy of   M17: 98% (72/73)\n",
            "Test Accuracy of   M23: 100% ( 8/ 8)\n",
            "Test Accuracy of   N35: 100% (90/90)\n",
            "Test Accuracy of    O1: 75% ( 3/ 4)\n",
            "Test Accuracy of   O34: 100% ( 4/ 4)\n",
            "Test Accuracy of    O4: 100% ( 3/ 3)\n",
            "Test Accuracy of   O49: 100% ( 3/ 3)\n",
            "Test Accuracy of    Q1: 75% ( 3/ 4)\n",
            "Test Accuracy of    Q3: 93% (15/16)\n",
            "Test Accuracy of    R4: 100% ( 1/ 1)\n",
            "Test Accuracy of    R8: 100% (14/14)\n",
            "Test Accuracy of   S29: 100% (53/53)\n",
            "Test Accuracy of   S34: 100% ( 2/ 2)\n",
            "Test Accuracy of    U7: 100% ( 1/ 1)\n",
            "Test Accuracy of   V13: 100% (16/16)\n",
            "Test Accuracy of   V28: 100% ( 8/ 8)\n",
            "Test Accuracy of   V30: 100% ( 2/ 2)\n",
            "Test Accuracy of   V31: 100% (27/27)\n",
            "Test Accuracy of   W11: 100% ( 1/ 1)\n",
            "Test Accuracy of   W24: 100% ( 8/ 8)\n",
            "Test Accuracy of    X1: 100% (47/47)\n",
            "Test Accuracy of    X8: 50% ( 1/ 2)\n",
            "Test Accuracy of    Y1:  0% ( 0/ 1)\n",
            "Test Accuracy of    Y5: 100% ( 2/ 2)\n",
            "Test Accuracy of    Z1: 100% (10/10)\n",
            "\n",
            "Test Accuracy (Overall): 98% (626/635)\n"
          ]
        }
      ]
    }
  ]
}